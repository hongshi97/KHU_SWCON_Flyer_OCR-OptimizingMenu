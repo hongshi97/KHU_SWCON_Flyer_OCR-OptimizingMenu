{
 "cells": [
  {
   "cell_type": "code",
   "execution_count": 7,
   "metadata": {},
   "outputs": [],
   "source": [
    "import os\n",
    " \n",
    "def changeName_image(path):\n",
    "    \n",
    "    i = 100000\n",
    "    for filename in os.listdir(path):\n",
    "        \n",
    "        if '_' in filename:\n",
    "        \n",
    "            try:\n",
    "                os.rename(path+filename, path+filename.split('_')[2].split('.')[0]+'.jpg') \n",
    "            except:\n",
    "                os.rename(path+filename, path+f'{i}'+filename.split('_')[2].split('.')[0]+'.jpg') \n",
    "\n",
    "                i += 1\n",
    "        else:\n",
    "            pass\n",
    "            \n",
    "def changeName_label(path):\n",
    "    \n",
    "    i = 100000\n",
    "    for filename in os.listdir(path):\n",
    "        \n",
    "        if '_' in filename:\n",
    "            \n",
    "            try:\n",
    "                os.rename(path+filename, path+filename.split('_')[2]) \n",
    "            except:\n",
    "                os.rename(path+filename, path+f'{i}'+filename.split('_')[2]) \n",
    "\n",
    "                i += 1\n",
    "            \n",
    "        else:\n",
    "            pass"
   ]
  },
  {
   "cell_type": "code",
   "execution_count": 2,
   "metadata": {},
   "outputs": [
    {
     "name": "stdout",
     "output_type": "stream",
     "text": [
      "421852 421852\n",
      "52733 52733\n"
     ]
    }
   ],
   "source": [
    "print(len(os.listdir('data/train_image/')), len(os.listdir('data/train_label/')))\n",
    "print(len(os.listdir('data/test_image/')), len(os.listdir('data/test_label/')))"
   ]
  },
  {
   "cell_type": "code",
   "execution_count": 5,
   "metadata": {},
   "outputs": [],
   "source": [
    "changeName_image('data/train_image/')"
   ]
  },
  {
   "cell_type": "code",
   "execution_count": 8,
   "metadata": {},
   "outputs": [],
   "source": [
    "changeName_label('data/train_label/')"
   ]
  },
  {
   "cell_type": "code",
   "execution_count": 9,
   "metadata": {},
   "outputs": [],
   "source": [
    "changeName_image('data/test_image/')"
   ]
  },
  {
   "cell_type": "code",
   "execution_count": 10,
   "metadata": {},
   "outputs": [],
   "source": [
    "changeName_label('data/test_label/')"
   ]
  }
 ],
 "metadata": {
  "kernelspec": {
   "display_name": "Python 3",
   "language": "python",
   "name": "python3"
  },
  "language_info": {
   "codemirror_mode": {
    "name": "ipython",
    "version": 3
   },
   "file_extension": ".py",
   "mimetype": "text/x-python",
   "name": "python",
   "nbconvert_exporter": "python",
   "pygments_lexer": "ipython3",
   "version": "3.8.5"
  }
 },
 "nbformat": 4,
 "nbformat_minor": 4
}
